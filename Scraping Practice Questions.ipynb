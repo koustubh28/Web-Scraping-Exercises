{
 "cells": [
  {
   "cell_type": "markdown",
   "metadata": {
    "tags": []
   },
   "source": [
    "# **Web Scraping Practice Questions**"
   ]
  },
  {
   "cell_type": "markdown",
   "metadata": {},
   "source": [
    "\n",
    "#### **1. Write a program that scrapes notable alumni  of Hofstra from its [wiki page](https://en.wikipedia.org/wiki/Hofstra_University). You do NOT need to handle exceptions. The output must be:**\n",
    "\n",
    "    Phillip Rosenthal, executive producer of the sitcom Everybody Loves Raymond\n",
    "    Francis Ford Coppola, film director\n",
    "    Avi Arad, founder of Marvel Studios\n",
    "    Norm Coleman, former U.S. Senator from Minnesota\n",
    "    ...\n",
    "\n",
    "**Hint:** You can use `.strip('\\n')` method to remove newlines."
   ]
  },
  {
   "cell_type": "markdown",
   "metadata": {},
   "source": [
    "#### **2. Write a function called `notable_alumni_finder` that takes the URL of a university's wiki page and returns its notable alumni. Handle all the possible exceptions. Test your function with the following list of URLs:**\n",
    "\n",
    "['https://en.wikipedia.org/wiki/St._John%27s_University_(New_York_City)',\n",
    "'https://en.wikipedia.org/wiki/Manhattan_College',\n",
    "'https://en.wikipedia.org/wiki/Cornell_University',\n",
    "'https://en.wikipedia.org/wiki/Columbia_University',\n",
    "'https://unknownURL.org/wiki/unknown_university']\n"
   ]
  },
  {
   "cell_type": "markdown",
   "metadata": {},
   "source": [
    "#### **3. Write a program that scrapes and prints all the reviews on the first page of Hofstra on [Niche.com](https://www.niche.com/colleges/hofstra-university/reviews/).**\n",
    "\n",
    "**NOTE:** urlopen results in an `HTTPError: HTTP Error 403: Forbidden` error becuase of the `Python` header. As shwon below, we  can use the `request` function to send the requst with a fake header.  "
   ]
  },
  {
   "cell_type": "code",
   "execution_count": 8,
   "metadata": {
    "tags": []
   },
   "outputs": [],
   "source": [
    "from urllib.request import Request, urlopen\n",
    "from bs4 import BeautifulSoup\n",
    "\n",
    "web_address='https://www.niche.com/colleges/hofstra-university/reviews/'\n",
    "req = Request(web_address,headers={'User-Agent': 'Mozilla/5.0'})\n",
    "html = urlopen(req)"
   ]
  },
  {
   "cell_type": "code",
   "execution_count": null,
   "metadata": {},
   "outputs": [],
   "source": []
  }
 ],
 "metadata": {
  "kernelspec": {
   "display_name": "Python 3 (ipykernel)",
   "language": "python",
   "name": "python3"
  },
  "language_info": {
   "codemirror_mode": {
    "name": "ipython",
    "version": 3
   },
   "file_extension": ".py",
   "mimetype": "text/x-python",
   "name": "python",
   "nbconvert_exporter": "python",
   "pygments_lexer": "ipython3",
   "version": "3.11.5"
  }
 },
 "nbformat": 4,
 "nbformat_minor": 4
}
