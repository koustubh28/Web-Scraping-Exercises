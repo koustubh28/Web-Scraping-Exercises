{
 "cells": [
  {
   "cell_type": "markdown",
   "metadata": {},
   "source": [
    "# Handling Exceptions\n",
    "\n",
    "You've definitely already encountered errors by this point in the course. For example:"
   ]
  },
  {
   "cell_type": "code",
   "execution_count": null,
   "metadata": {},
   "outputs": [],
   "source": [
    "print('Hello)"
   ]
  },
  {
   "cell_type": "markdown",
   "metadata": {},
   "source": [
    "Note how we get a SyntaxError, with the further description that it was an EOL (End of Line Error) while scanning the string literal. This is specific enough for us to see that we forgot a single quote at the end of the line. Understanding these various error types will help you debug your code much faster. \n",
    "\n",
    "**Syntax errors**, also known as *parsing errors*, are perhaps the most common kind of complaint you get while you are still learning Python:\n",
    "\n",
    "Even if a statement or expression is syntactically correct, it may cause an error when an attempt is made to execute it. Errors detected during execution are called **exceptions** and are not unconditionally fatal: you will learn how to handle them in Python programs.\n",
    "\n",
    "Most exceptions are not handled by programs, however, and result in error messages as shown here:"
   ]
  },
  {
   "cell_type": "code",
   "execution_count": null,
   "metadata": {},
   "outputs": [],
   "source": [
    "'2' + 2"
   ]
  },
  {
   "cell_type": "code",
   "execution_count": null,
   "metadata": {},
   "outputs": [],
   "source": [
    "10 * (1/0)"
   ]
  },
  {
   "cell_type": "code",
   "execution_count": null,
   "metadata": {},
   "outputs": [],
   "source": [
    "4 + spam*3"
   ]
  },
  {
   "cell_type": "code",
   "execution_count": null,
   "metadata": {},
   "outputs": [],
   "source": [
    "from urllib.request import urlopen\n",
    "\n",
    "html = urlopen('www.hofstra.edu')"
   ]
  },
  {
   "cell_type": "markdown",
   "metadata": {},
   "source": [
    "If you want to throw an error when a certain condition occurs, you can use the `raise()` function:"
   ]
  },
  {
   "cell_type": "code",
   "execution_count": null,
   "metadata": {},
   "outputs": [],
   "source": [
    "x = 10\n",
    "if x > 5:\n",
    "    raise Exception('x should not exceed 5')"
   ]
  },
  {
   "cell_type": "markdown",
   "metadata": {},
   "source": [
    "You can check out the full list of built-in exceptions [here](https://docs.python.org/3/library/exceptions.html). Now let's learn how to handle errors and exceptions in our own code."
   ]
  },
  {
   "cell_type": "markdown",
   "metadata": {},
   "source": [
    "## `try` and `except`\n",
    "\n",
    "The basic syntax used to handle exceptions in Python is the <code>try</code> and <code>except</code> statements. The code which can cause an exception to occur is put in the <code>try</code> block and the handling of the exception is then implemented in the <code>except</code> block of code. The syntax follows:\n",
    "\n",
    "    try:\n",
    "       This is the block of code to be attempted (may lead to an error).\n",
    "    except ExceptionI:\n",
    "       If there is ExceptionI in the try block, then execute this block.\n",
    "    except ExceptionII:\n",
    "       If there is ExceptionII in the try block, then execute this block.\n",
    "    ...\n",
    "**<font color='red'>Note 1:</font>** We can check for *any exception* with just using <code>except:</code> (see below), but you should try to avoid using this *general* exception handling approach because you are prone to the risk of getting incorrect result without noticing it. Instead, try to account for each exception individually. \n",
    "\n",
    "    try:\n",
    "       This is the block of code to be attempted (may lead to an error).\n",
    "    except:\n",
    "       If there is any exception in the try block, then execute this block.\n",
    "\n",
    "**<font color='red'>Note 2:</font>** You can instruct a program to execute a certain block of code <font color='blue'>only in the absence of exceptions</font> using an **optional `else` statement**:\n",
    "\n",
    "\n",
    "    try:\n",
    "       This is the block of code to be attempted (may lead to an error).\n",
    "    except ExceptionI:\n",
    "       If there is ExceptionI in the try block, then execute this block.\n",
    "    except ExceptionII:\n",
    "       If there is ExceptionII in the try block, then execute this block.\n",
    "    ...\n",
    "    else:\n",
    "       If there is no exception, then execute this block. \n",
    "\n",
    "\n",
    "To get a better understanding, let's go over a few examples."
   ]
  },
  {
   "cell_type": "code",
   "execution_count": null,
   "metadata": {},
   "outputs": [],
   "source": [
    "#try this code with (a=27,b=2), (a='ban',b=272), and (a=2,b=0)\n",
    "\n",
    "a=27\n",
    "b=2\n",
    "try:\n",
    "    print(a/b)\n",
    "except TypeError:\n",
    "    print('a and b must be numeric')\n",
    "except ZeroDivisionError:\n",
    "    print('b cannot be zero')"
   ]
  },
  {
   "cell_type": "markdown",
   "metadata": {},
   "source": [
    "Now let's add the `else` statement:"
   ]
  },
  {
   "cell_type": "code",
   "execution_count": null,
   "metadata": {},
   "outputs": [],
   "source": [
    "#try this code with (a=27,b=2), (a='ban',b=272), and (a=2,b=0)\n",
    "\n",
    "a=27\n",
    "b=2\n",
    "try:\n",
    "    print(a/b)\n",
    "except TypeError:\n",
    "    print('a and b must be numeric')\n",
    "except ZeroDivisionError:\n",
    "    print('b cannot be zero')\n",
    "else:\n",
    "    print('The code excuted with no error!')"
   ]
  },
  {
   "cell_type": "markdown",
   "metadata": {},
   "source": [
    "We can but should not use <code>except:</code> to catch all the erros:"
   ]
  },
  {
   "cell_type": "code",
   "execution_count": null,
   "metadata": {},
   "outputs": [],
   "source": [
    "#try this code with (a=27,b=2), (a='ban',b=272), and (a=2,b=0)\n",
    "\n",
    "a=27\n",
    "b=2\n",
    "try:\n",
    "    print(a/b)\n",
    "except:\n",
    "    print('Somthing went wrong!')\n",
    "else:\n",
    "    print('The code excuted with no error!')"
   ]
  },
  {
   "cell_type": "markdown",
   "metadata": {},
   "source": [
    "___\n",
    "\n",
    "**Now go to \"Module 3 Class Exercise\" notebook and complete Exercise 6.**\n",
    "\n",
    "___"
   ]
  },
  {
   "cell_type": "markdown",
   "metadata": {},
   "source": [
    "## Handling Exceptions in Web Scraping\n",
    "\n",
    "Let’s take a look at the first line of our scraper, after the import statements, and figure out how to handle any exceptions this might throw:"
   ]
  },
  {
   "cell_type": "code",
   "execution_count": null,
   "metadata": {},
   "outputs": [],
   "source": [
    "html = urlopen('http://www.pythonscraping.com/pages/page1.html') "
   ]
  },
  {
   "cell_type": "markdown",
   "metadata": {},
   "source": [
    "<p>Two main things can go wrong in this line:</p>\n",
    "\n",
    "<ul>\n",
    "\t<li>The page is not found on the server (or there was an error in retrieving it).</li>\n",
    "\t<li>The server is not found.</li>\n",
    "</ul>\n",
    "\n",
    "In the first situation, an HTTP error will be returned. This HTTP error may be “404 Page Not Found,” “500 Internal Server Error,” and so forth. In all of these cases, the urlopen function will throw the generic exception **`HTTPError`**. You can handle this exception as shown in the following example:\n",
    "\n"
   ]
  },
  {
   "cell_type": "markdown",
   "metadata": {},
   "source": [
    "**Example:** Handle the exception thrown by the code below by using <code>try</code> and <code>except</code> blocks.\n",
    "\n",
    "html = urlopen('http://www.pythonscraping.com/pages/page90.html') "
   ]
  },
  {
   "cell_type": "code",
   "execution_count": 2,
   "metadata": {},
   "outputs": [
    {
     "name": "stdout",
     "output_type": "stream",
     "text": [
      "The server returned an HTTP error\n"
     ]
    }
   ],
   "source": [
    "from urllib.request import urlopen\n",
    "from urllib.error import HTTPError\n",
    "\n",
    "try:\n",
    "    html = urlopen(\"http://www.pythonscraping.com/pages/page90.html\")\n",
    "except HTTPError as e:\n",
    "    print(\"The server returned an HTTP error\")\n",
    "else:\n",
    "    print(html.read())"
   ]
  },
  {
   "cell_type": "markdown",
   "metadata": {},
   "source": [
    "Notice that we need to import `HTTPError` as it's not in defined in Pyhton. \n",
    "\n",
    "Also, \"`as e`\" statement makes the error available through the variable `e`. For instance, you can print the error with `print(e)`. Note that `e` is just a name and can be replaced by any other valid variable name. "
   ]
  },
  {
   "cell_type": "markdown",
   "metadata": {},
   "source": [
    "If the server is not found at all (if, say, http://www.pythonscraping.com is down, or the URL is mistyped), urlopen will throw a **`URLError`**. \n",
    "\n",
    "This indicates that no server could be reached at all, and, because the remote server is responsible for returning HTTP status codes, an `HTTPError` cannot be thrown, and the more serious `URLError` must be caught. You can add a check to see whether this is the case:"
   ]
  },
  {
   "cell_type": "markdown",
   "metadata": {},
   "source": [
    "___\n",
    "\n",
    "**Now go to \"Module 3 Class Exercise\" notebook and complete Exercise 7.**\n",
    "\n",
    "___"
   ]
  },
  {
   "cell_type": "markdown",
   "metadata": {},
   "source": [
    "If the page is retrieved successfully from the server, there is still the issue of the content on the page not quite being what you expected. \n",
    "\n",
    "Every time you access a tag in a BeautifulSoup object, it checks whether the tag actually exists. \n",
    "\n",
    "If you attempt to access a tag that does not exist, BeautifulSoup will return a **`None`** object. The problem is, attempting to access a tag on a `None` object itself will result in an `AttributeError` being thrown.\n",
    "\n",
    "Here is an example:"
   ]
  },
  {
   "cell_type": "code",
   "execution_count": null,
   "metadata": {},
   "outputs": [],
   "source": [
    "from urllib.request import urlopen\n",
    "from bs4 import BeautifulSoup\n",
    "\n",
    "html = urlopen('http://www.pythonscraping.com/pages/page1.html')\n",
    "bs = BeautifulSoup(html.read(), 'html.parser')\n",
    "print(bs.nonExistentTag)"
   ]
  },
  {
   "cell_type": "code",
   "execution_count": null,
   "metadata": {},
   "outputs": [],
   "source": [
    "print(bs.nonExistentTag.someTag)"
   ]
  },
  {
   "cell_type": "markdown",
   "metadata": {},
   "source": [
    "To avoide either of these issues, we can use exception handeling and if statement to explicitly check for both situations:"
   ]
  },
  {
   "cell_type": "code",
   "execution_count": null,
   "metadata": {},
   "outputs": [],
   "source": [
    "try:\n",
    "    Content = bs.nonExistingTag.anotherTag\n",
    "except AttributeError as e:\n",
    "    print('Tag was not found')\n",
    "else:\n",
    "    if Content == None:\n",
    "        print ('Tag was not found')\n",
    "    else:\n",
    "        print(Content)"
   ]
  },
  {
   "cell_type": "markdown",
   "metadata": {},
   "source": [
    "Try the above code with different tags in the second line. "
   ]
  }
 ],
 "metadata": {
  "kernelspec": {
   "display_name": "Python 3 (ipykernel)",
   "language": "python",
   "name": "python3"
  },
  "language_info": {
   "codemirror_mode": {
    "name": "ipython",
    "version": 3
   },
   "file_extension": ".py",
   "mimetype": "text/x-python",
   "name": "python",
   "nbconvert_exporter": "python",
   "pygments_lexer": "ipython3",
   "version": "3.11.5"
  }
 },
 "nbformat": 4,
 "nbformat_minor": 4
}
