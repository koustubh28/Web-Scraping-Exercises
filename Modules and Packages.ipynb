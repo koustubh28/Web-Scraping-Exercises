{
 "cells": [
  {
   "cell_type": "markdown",
   "metadata": {},
   "source": [
    "# Modules and Packages\n",
    "\n",
    "One of the key features of Python is that the actual <font color='red'> core language is fairly small</font>. This is an intentional design feature to maintain simplicity. Much of the powerful functionality comes through **external** modules and packages. Some of the external packages are built-in and some other are developed by third-party users. \n",
    "\n",
    "Check out the full list of built-in modules in the Python standard library [here](https://docs.python.org/3/py-modindex.html). \n",
    "\n",
    "Third-party packages are stored in a repository called **PyPI** (about 14,000 packages and growing).\n",
    "\n",
    "So far, we have only used libraries that come internally with Python. In this exercise, we learn how to install and use external packages. "
   ]
  },
  {
   "cell_type": "markdown",
   "metadata": {},
   "source": [
    "## Importing, Using, and Exploring Modules\n",
    "\n",
    "Let's begin with using an already installed module. To use a function from the module, you can use the following syntax:\n",
    "\n",
    "<code><font color='blue'>import module_name\n",
    "output=module_name.function_name(input)</font> </code>\n",
    "\n",
    "Here is an exmaple:"
   ]
  },
  {
   "cell_type": "code",
   "execution_count": null,
   "metadata": {
    "scrolled": true
   },
   "outputs": [],
   "source": [
    "import numpy\n",
    "answer=numpy.sqrt(3)\n",
    "print (answer)"
   ]
  },
  {
   "cell_type": "markdown",
   "metadata": {},
   "source": [
    "___\n",
    "\n",
    "**Now go to \"Module 3 Class Exercise\" notebook and complete Exercise 1.**\n",
    "\n",
    "___"
   ]
  },
  {
   "cell_type": "markdown",
   "metadata": {},
   "source": [
    "An alternative way to import a function is to use the following syntax:\n",
    "\n",
    "<code><font color='blue'>from module_name import function_name\n",
    "output=function_name(input)</font> </code>\n",
    "\n",
    "Here is an exmaple:"
   ]
  },
  {
   "cell_type": "code",
   "execution_count": null,
   "metadata": {},
   "outputs": [],
   "source": [
    "from numpy import sqrt\n",
    "answer=sqrt(3)\n",
    "print (answer)"
   ]
  },
  {
   "cell_type": "markdown",
   "metadata": {},
   "source": [
    "___\n",
    "\n",
    "**Now go to \"Module 3 Class Exercise\" notebook and complete Exercise 2.**\n",
    "\n",
    "___"
   ]
  },
  {
   "cell_type": "markdown",
   "metadata": {},
   "source": [
    "<h3> The difference between   <code>import module</code>   and   <code>from module import function</code> </h3> (source: stackoverflow) \n",
    "\n",
    "<p>Their difference is mainly subjective. Pick the one you like best and be consistent in your use of it.  Here are some points to help you decide.</p>\n",
    "\n",
    "<p><code>import module</code></p>\n",
    "\n",
    "<ul>\n",
    "<li><strong>Pros:</strong>\n",
    "\n",
    "<ul>\n",
    "<li>Less maintenance of your <code>import</code> statements. Don't need to add any additional imports to start using another item from the module.</li>\n",
    "</ul></li>\n",
    "<li><strong>Cons:</strong>\n",
    "\n",
    "<ul>\n",
    "<li>Typing <code>module.function</code> in your code can be tedious and redundant (tedium can be minimized by using <code>import module_name as alt_name</code> then typing <code>mo.function</code>):</li>\n",
    "</ul></li>\n",
    "</ul>\n",
    "\n",
    "<p><code>from module import function</code></p>\n",
    "\n",
    "<ul>\n",
    "<li><strong>Pros:</strong>\n",
    "\n",
    "<ul>\n",
    "<li>Less typing to use <code>function</code>.</li>\n",
    "<li>More control over which items of a module can be accessed.</li>\n",
    "</ul></li>\n",
    "<li><strong>Cons:</strong>\n",
    "\n",
    "<ul>\n",
    "<li>To use a new item from the module you have to update your <code>import</code> statement.</li>\n",
    "<li>You lose context about <code>function</code>. For example, it's less clear what <code>ceil()</code> does compared to <code>math.ceil().</code></li>\n",
    "</ul></li>\n",
    "</ul>"
   ]
  },
  {
   "cell_type": "code",
   "execution_count": null,
   "metadata": {
    "scrolled": true
   },
   "outputs": [],
   "source": [
    "## example code using the `import <module_name> as <alt_name>' syntax\n",
    "import numpy as amir\n",
    "answer=amir.sqrt(3)\n",
    "print (answer)"
   ]
  },
  {
   "cell_type": "markdown",
   "metadata": {},
   "source": [
    "An alternative syntax is to use the * wildcard to import the entire module:\n",
    "\n",
    "<code><font color='blue'>from some_module import *\n",
    "output=some_function(input)</font> </code>\n",
    "\n",
    "With this syntax you can call all the functions without prefixing.\n",
    "\n",
    "A general rule of thumb is that `from <module> import *` is only OK for interactive analysis within IPython but **you should avoid using it within scripts**."
   ]
  },
  {
   "cell_type": "markdown",
   "metadata": {},
   "source": [
    "### Exploring the modules using `dir()` and `help()`\n",
    "Two very important functions come in handy when exploring modules in Python - the <code>dir</code> and <code>help</code> functions.\n",
    "\n",
    "We can look for which functions are implemented in each module by using the <code>dir</code> function:"
   ]
  },
  {
   "cell_type": "code",
   "execution_count": null,
   "metadata": {
    "scrolled": true
   },
   "outputs": [],
   "source": [
    "import bs4\n",
    "print(dir(bs4))"
   ]
  },
  {
   "cell_type": "markdown",
   "metadata": {},
   "source": [
    "When we find the function in the module we want to use, we can read about it more using the <code>help</code> function, inside the Python interpreter:"
   ]
  },
  {
   "cell_type": "code",
   "execution_count": null,
   "metadata": {
    "scrolled": true
   },
   "outputs": [],
   "source": [
    "help(bs4.BeautifulSoup)"
   ]
  },
  {
   "cell_type": "markdown",
   "metadata": {},
   "source": [
    "## Installing Modules\n",
    "\n",
    "If you have used Anaconda distribution to install Python, most of the common libraries are already installed. \n",
    "\n",
    "We can use **`pip install`** at the command line to install any package. \n",
    "\n",
    "<p>The <code class=\"docutils literal\"><span class=\"pre\">pip</span> <span class=\"pre\">install</span></code> script is available within the core Python installation and is very easy to use (when it works).  \n",
    "\n",
    "Features of `pip install` include:</p>\n",
    "<blockquote>\n",
    "<div><ul class=\"simple\">\n",
    "<li>If supplied with a package name then it will query the PyPI site to find out about\n",
    "that package.  Assuming the package is there then <code class=\"docutils literal\"><span class=\"pre\">pip</span> <span class=\"pre\">install</span></code> will automatically download and install the package.</li>\n",
    "<li>Will accept a local tar file (assuming it contains an installable Python package) or a URL\n",
    "pointing to a tar file.</li>\n",
    "\n",
    "Watch the first four minutes of [this video](https://www.youtube.com/watch?v=jnpC_Ib_lbc) to learn how to use `pip install`."
   ]
  },
  {
   "cell_type": "markdown",
   "metadata": {},
   "source": [
    "**Optional:** To learn more about modules and packages click [here](https://python4astronomers.github.io/installation/packages.html). If you want to learn how to develop a module and package click [here](https://www.digitalocean.com/community/tutorials/how-to-write-modules-in-python-3)."
   ]
  }
 ],
 "metadata": {
  "kernelspec": {
   "display_name": "Python 3 (ipykernel)",
   "language": "python",
   "name": "python3"
  },
  "language_info": {
   "codemirror_mode": {
    "name": "ipython",
    "version": 3
   },
   "file_extension": ".py",
   "mimetype": "text/x-python",
   "name": "python",
   "nbconvert_exporter": "python",
   "pygments_lexer": "ipython3",
   "version": "3.11.5"
  }
 },
 "nbformat": 4,
 "nbformat_minor": 4
}
