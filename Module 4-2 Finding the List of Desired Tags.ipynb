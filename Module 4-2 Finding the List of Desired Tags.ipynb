{
 "cells": [
  {
   "cell_type": "markdown",
   "metadata": {},
   "source": [
    "# Finding the List of Desired Tags: The `find_all()` method"
   ]
  },
  {
   "cell_type": "markdown",
   "metadata": {},
   "source": [
    "The `find_all()` method traverses the HTML parse tree and finds all the `Tag` and `NavigableString` objects that match the criteria you give. \n",
    "\n",
    "The syntax of the findall method is:\n",
    "\n",
    "**<code><font color='blue'><center>find_all(name, attributes, recursive, string, limit, keyword)</center></font></code>**\n",
    "\n",
    "## `name`\n",
    "The **<code><font color='blue'>name</font></code>** argument is tag name that you have seen before. You can pass a string name of a tag or even a Python list of string tag names. For example, `.find_all([\"a\", \"b\"])` finds all the `<a>` tags and all the `<b>` tags."
   ]
  },
  {
   "cell_type": "markdown",
   "metadata": {},
   "source": [
    "___\n",
    "\n",
    "**Now go to \"Session 5 Class Exercise\" notebook and complete Exercise 2.**\n",
    "\n",
    "___"
   ]
  },
  {
   "cell_type": "markdown",
   "metadata": {},
   "source": [
    "## `attributes`\n",
    "\n",
    "The **<code><font color='blue'>attributes</font></code>** argument takes a Python dictionary of attributes and matches tags that contain any one of those attributes. For example, to retrieve both the green and red span tags in an HTML document, run `.find_all('span', {'class':{'green', 'red'}})`. Note that the attribute is passed on as a Python dictionary to the `find_all()` method. \n",
    "\n",
    "The code below captures all the text in green or red on this page: http://www.pythonscraping.com/pages/warandpeace.html"
   ]
  },
  {
   "cell_type": "code",
   "execution_count": null,
   "metadata": {},
   "outputs": [],
   "source": [
    "from urllib.request import urlopen\n",
    "from bs4 import BeautifulSoup\n",
    "\n",
    "web_address=' http://www.pythonscraping.com/pages/warandpeace.html'\n",
    "html = urlopen(web_address)\n",
    "bs = BeautifulSoup(html.read(), 'html.parser')\n",
    "\n",
    "colorTextList = bs.findAll('span', {'class':{'green', 'red'}})\n",
    "for colorText in colorTextList:\n",
    "    print(colorText.get_text())\n"
   ]
  },
  {
   "cell_type": "markdown",
   "metadata": {},
   "source": [
    "___\n",
    "\n",
    "**Now go to \"Module 4 Class Exercise\" notebook and complete exercises 3 to 5.**\n",
    "\n",
    "___"
   ]
  },
  {
   "cell_type": "markdown",
   "metadata": {},
   "source": [
    "## `recursive`\n",
    "\n",
    "The **<code><font color='blue'>recursive</font></code>** argument is a Boolean (i.e., `True/False`): \n",
    "\n",
    "If recursive is set to `True` (the default), the find_all function looks into children, and children’s children, for tags that match your parameters. \n",
    "\n",
    "If it is `False`, it will look only at the top-level tags in your document. \n",
    "\n",
    "The following example shows the difference between the two options:"
   ]
  },
  {
   "cell_type": "code",
   "execution_count": null,
   "metadata": {},
   "outputs": [],
   "source": [
    "#Note that here we have manually created the HTML code, instead of accessing a website:\n",
    "\n",
    "html_doc = \"\"\"\n",
    "<html><head><title>The Dormouse's story</title></head>\n",
    "<body>\n",
    "<p class=\"title\"><b>The Dormouse's story</b></p>\n",
    "\n",
    "<p class=\"story\">Once upon a time there were three little sisters; and their names were\n",
    "<a href=\"http://example.com/elsie\" class=\"sister\" id=\"link1\">Elsie</a>,\n",
    "<a href=\"http://example.com/lacie\" class=\"sister\" id=\"link2\">Lacie</a> and\n",
    "<a href=\"http://example.com/tillie\" class=\"sister\" id=\"link3\">Tillie</a>;\n",
    "and they lived at the bottom of a well.</p>\n",
    "\n",
    "<p class=\"story\">...</p>\n",
    "\"\"\"\n",
    "\n",
    "soup = BeautifulSoup(html_doc, 'html.parser')\n",
    "print(soup.prettify())"
   ]
  },
  {
   "cell_type": "code",
   "execution_count": null,
   "metadata": {},
   "outputs": [],
   "source": [
    "soup.html.find_all(\"title\")"
   ]
  },
  {
   "cell_type": "code",
   "execution_count": null,
   "metadata": {},
   "outputs": [],
   "source": [
    "soup.html.find_all(\"title\", recursive=False)"
   ]
  },
  {
   "cell_type": "markdown",
   "metadata": {},
   "source": [
    "**<font color=blue> Explanation:** </font> Here’s that part of the document:\n",
    "\n",
    "`<html>\n",
    " <head>\n",
    "  <title>\n",
    "   The Dormouse's story\n",
    "  </title>\n",
    " </head>\n",
    "...`\n",
    "\n",
    "<p>The &lt;title&gt; tag is beneath the &lt;html&gt; tag, but it&#8217;s not <cite>directly</cite> beneath the &lt;html&gt; tag: the &lt;head&gt; tag is in the way. Beautiful Soup finds the &lt;title&gt; tag when it&#8217;s allowed to look at all descendants of the &lt;html&gt; tag, but when <code>recursive=False</code> restricts it to the &lt;html&gt; tag&#8217;s immediate children, it finds nothing.</p>"
   ]
  },
  {
   "cell_type": "markdown",
   "metadata": {},
   "source": [
    "## `string`\n",
    "\n",
    "The `string` argument is unusual in that it matches based on the text content of the tags (i.e, `NavigableString`), rather than properties of the tags themselves. \n",
    "\n",
    "For example, if you want to find the number of times “the prince” is surrounded by tags on [this example page](http://www.pythonscraping.com/pages/warandpeace.html), you could replace your .find_all() function in the previous example with the following lines:\n"
   ]
  },
  {
   "cell_type": "code",
   "execution_count": null,
   "metadata": {},
   "outputs": [],
   "source": [
    "web_address='http://www.pythonscraping.com/pages/warandpeace.html'\n",
    "html = urlopen(web_address)\n",
    "bs = BeautifulSoup(html.read(), 'html.parser')\n",
    "\n",
    "nameList = bs.find_all(string='the prince')\n",
    "print(len(nameList))"
   ]
  },
  {
   "cell_type": "markdown",
   "metadata": {},
   "source": [
    "Note that the text must be an exact match to the whole string of the tag. For instance, `nameList = bs.find_all(text='the')` returns nothing, becuase \"the\" is not the whole content of any tag."
   ]
  },
  {
   "cell_type": "markdown",
   "metadata": {},
   "source": [
    "___\n",
    "\n",
    "**Now go to \"Module 4 Class Exercise\" notebook and complete Exercise 6.**\n",
    "\n",
    "___"
   ]
  },
  {
   "cell_type": "markdown",
   "metadata": {},
   "source": [
    "## `limit`\n",
    "\n",
    "If you don’t need *all* the results, you can pass in a number for `limit`. `limit` tells Beautiful Soup to stop gathering results after it has found a certain number.\n",
    "\n",
    "Thus, `find()` is equivalent to the same `find_all` call with a `limit` of 1. \n",
    "\n",
    "Here is an example:"
   ]
  },
  {
   "cell_type": "code",
   "execution_count": null,
   "metadata": {},
   "outputs": [],
   "source": [
    "html_doc = \"\"\"\n",
    "<html><head><title>The Dormouse's story</title></head>\n",
    "<body>\n",
    "<p class=\"title\"><b>The Dormouse's story</b></p>\n",
    "\n",
    "<p class=\"story\">Once upon a time there were three little sisters; and their names were\n",
    "<a href=\"http://example.com/elsie\" class=\"sister\" id=\"link1\">Elsie</a>,\n",
    "<a href=\"http://example.com/lacie\" class=\"sister\" id=\"link2\">Lacie</a> and\n",
    "<a href=\"http://example.com/tillie\" class=\"sister\" id=\"link3\">Tillie</a>;\n",
    "and they lived at the bottom of a well.</p>\n",
    "\n",
    "<p class=\"story\">...</p>\n",
    "\"\"\"\n",
    "\n",
    "soup = BeautifulSoup(html_doc, 'html.parser')\n",
    "\n",
    "soup.find_all(\"a\", limit=2)"
   ]
  },
  {
   "cell_type": "markdown",
   "metadata": {},
   "source": [
    " ## `keyword`\n",
    "The `keyword` argument allows you to select tags that contain a particular attribute or set of attributes. \n",
    "\n",
    "For example, `.find_all(id='title')` returns all the tags with the attribute `id` equal to `title`. The example below, reurns all the info on second gift in the gift table on [this page](http://www.pythonscraping.com/pages/page3.html)."
   ]
  },
  {
   "cell_type": "code",
   "execution_count": null,
   "metadata": {},
   "outputs": [],
   "source": [
    "web_address='http://www.pythonscraping.com/pages/page3.html'\n",
    "html = urlopen(web_address)\n",
    "bs = BeautifulSoup(html.read(), 'html.parser')\n",
    "\n",
    "gift2Info=bs.find_all(id=\"gift2\")\n",
    "\n",
    "for info in gift2Info:\n",
    "    print(info.get_text())"
   ]
  },
  {
   "cell_type": "markdown",
   "metadata": {},
   "source": [
    "**<font color=blue>Two notes on `keyword`:</font>**\n",
    "\n",
    "**<font color=red> Note 1:</font>** At this point, you might be asking yourself, “But wait, don’t I already know how to get a tag with a list of attributes by passing attributes to the function in a dictionary?”\n",
    "\n",
    "Recall that passing a list of tags to `.find_all()` via the attributes list acts as an **“or”** filter (it selects a list of all tags that have `tag1`, `tag2`, or `tag3`...). \n",
    "\n",
    "If you have a lengthy list of tags, you can end up with a lot of stuff you don’t want. The `keyword` argument allows you to add an additional **“and”** filter to this.\n",
    "\n",
    "**<font color=red> Note 2:</font>** You will run into problems using `keyword` when searching for elements by their `class` attribute, because \"class\" is a reserved word in Python and cannot be used as a variable or argument name. For example, if you try the following call, you will get a syntax error due to the nonstandard use of class:"
   ]
  },
  {
   "cell_type": "code",
   "execution_count": null,
   "metadata": {},
   "outputs": [],
   "source": [
    "web_address='http://www.pythonscraping.com/pages/warandpeace.html'\n",
    "html = urlopen(web_address)\n",
    "\n",
    "bs = BeautifulSoup(html.read(), 'html.parser')\n",
    "bs.find_all(class='green')"
   ]
  },
  {
   "cell_type": "markdown",
   "metadata": {},
   "source": [
    "Instead, you can use BeautifulSoup’s somewhat clumsy solution, which involves adding an **underscore**:"
   ]
  },
  {
   "cell_type": "code",
   "execution_count": null,
   "metadata": {},
   "outputs": [],
   "source": [
    "web_address='http://www.pythonscraping.com/pages/warandpeace.html'\n",
    "html = urlopen(web_address)\n",
    "\n",
    "bs = BeautifulSoup(html.read(), 'html.parser')\n",
    "bs.find_all(class_='green')"
   ]
  }
 ],
 "metadata": {
  "kernelspec": {
   "display_name": "Python 3 (ipykernel)",
   "language": "python",
   "name": "python3"
  },
  "language_info": {
   "codemirror_mode": {
    "name": "ipython",
    "version": 3
   },
   "file_extension": ".py",
   "mimetype": "text/x-python",
   "name": "python",
   "nbconvert_exporter": "python",
   "pygments_lexer": "ipython3",
   "version": "3.11.5"
  }
 },
 "nbformat": 4,
 "nbformat_minor": 4
}
