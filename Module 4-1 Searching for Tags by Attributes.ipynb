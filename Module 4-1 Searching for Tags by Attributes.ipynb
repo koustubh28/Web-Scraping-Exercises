{
 "cells": [
  {
   "cell_type": "markdown",
   "metadata": {},
   "source": [
    "# Searching for Tags by Attributes"
   ]
  },
  {
   "cell_type": "markdown",
   "metadata": {},
   "source": [
    "<p>Let’s create an example web scraper that scrapes the page located at <a href=\"http://www.pythonscraping.com/pages/warandpeace.html\"><em>http://www.pythonscraping.com/pages/warandpeace.html</em></a>.</p>\n",
    "\n",
    "<p>You can grab the entire page and create a <code>BeautifulSoup</code> object using the following program program: </p>\n"
   ]
  },
  {
   "cell_type": "code",
   "execution_count": 1,
   "metadata": {},
   "outputs": [],
   "source": [
    "from urllib.request import urlopen\n",
    "from bs4 import BeautifulSoup\n",
    "\n",
    "web_address='http://www.pythonscraping.com/pages/warandpeace.html'\n",
    "html = urlopen(web_address)\n",
    "bs   = BeautifulSoup(html.read(), 'html.parser')"
   ]
  },
  {
   "cell_type": "markdown",
   "metadata": {},
   "source": [
    "Using this `BeautifulSoup` object, you can use <font color=blue> find_all() </font> and <font color=blue> get_text() </font> methods to extract a **Python list** of proper nouns which are in green font. This can be accomplished by selecting only the text within <code> &lt;span class=\"green\"&gt;&lt;/span&gt;</code> tags. Two notes about this code:\n",
    "\n",
    "**<font color='red'>Note 1:</font>**  Previously, you have called <code>bs.tagName</code> to get the first occurrence of that tag. Now, you are calling <code>bs.find_all(tagName, tagAttributes)</code> which creates a **list of all of the tags** on the page, rather than just the first (we will discuss <code>find_all</code> in more detail later in this lecture).\n",
    "\n",
    "**<font color='red'>Note 2:</font>** After getting a list of names, the program iterates through all names in the list, and prints <code>name.get_text()</code> in order to separate the content from the tags."
   ]
  },
  {
   "cell_type": "code",
   "execution_count": null,
   "metadata": {},
   "outputs": [],
   "source": [
    "nameList = bs.find_all('span', {'class': 'green'})\n",
    "for name in nameList:\n",
    "    print(name.get_text())"
   ]
  },
  {
   "cell_type": "markdown",
   "metadata": {},
   "source": [
    "## `get_text()` method\n",
    "\n",
    "`.get_text()` strips all tags from the document and returns a Unicode string containing the text only. \n",
    "\n",
    "\n",
    "Keep in mind that it’s much easier to find what you’re looking for in a BeautifulSoup object than in a block of text. Thus, calling `.get_text()` should always be the last thing you do, immediately before you print, store, or manipulate your final data."
   ]
  },
  {
   "cell_type": "markdown",
   "metadata": {},
   "source": [
    "___\n",
    "\n",
    "**Now go to \"Module 4 Class Exercise\" notebook and complete Exercise 1.**\n",
    "\n",
    "___"
   ]
  },
  {
   "cell_type": "code",
   "execution_count": null,
   "metadata": {},
   "outputs": [],
   "source": []
  }
 ],
 "metadata": {
  "kernelspec": {
   "display_name": "Python 3 (ipykernel)",
   "language": "python",
   "name": "python3"
  },
  "language_info": {
   "codemirror_mode": {
    "name": "ipython",
    "version": 3
   },
   "file_extension": ".py",
   "mimetype": "text/x-python",
   "name": "python",
   "nbconvert_exporter": "python",
   "pygments_lexer": "ipython3",
   "version": "3.11.5"
  }
 },
 "nbformat": 4,
 "nbformat_minor": 4
}
