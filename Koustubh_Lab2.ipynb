{
 "cells": [
  {
   "cell_type": "markdown",
   "metadata": {},
   "source": [
    "## Exercise 1:\n",
    "Write a Python program that asks the user to input an integer number and prompts the user when the number is both divisible by 7 and multiple of 5."
   ]
  },
  {
   "cell_type": "code",
   "execution_count": 7,
   "metadata": {
    "tags": []
   },
   "outputs": [
    {
     "name": "stdin",
     "output_type": "stream",
     "text": [
      "Enter any number 55\n"
     ]
    },
    {
     "name": "stdout",
     "output_type": "stream",
     "text": [
      "No, sorry this number doesn't meets the requirement\n"
     ]
    }
   ],
   "source": [
    "#ask the user to input\n",
    "input_number = int(input('Enter any number'))\n",
    "\n",
    "#conditional programming based on input\n",
    "if input_number%7 == 0 & input_number%5 == 0:\n",
    "    print('Voila! This number is divisible by both 7 and 5')\n",
    "else:\n",
    "    print(\"No, sorry this number doesn't meets the requirement\")"
   ]
  },
  {
   "cell_type": "markdown",
   "metadata": {},
   "source": [
    "## Exercise 2:\n",
    "Write a Python program that takes a student's ID and final grade as input and prints the ID and letter grade based on the following scheme:  \n",
    "<table border=\"1\" class=\"docutils\">\n",
    "<colgroup>\n",
    "<col width=\"65%\" />\n",
    "<col width=\"35%\" />\n",
    "</colgroup>\n",
    "<thead valign=\"bottom\">\n",
    "<tr class=\"row-odd\"><th class=\"head\">Weighted final score</th>\n",
    "<th class=\"head\">Final grade</th>\n",
    "</tr>\n",
    "</thead>\n",
    "<tbody valign=\"top\">\n",
    "<tr class=\"row-even\"><td>80 &lt;= mark &lt;= 100</td>\n",
    "<td>A</td>\n",
    "</tr>\n",
    "<tr class=\"row-odd\"><td>70 &lt;= mark &lt; 80</td>\n",
    "<td>B</td>\n",
    "</tr>\n",
    "<tr class=\"row-even\"><td>60 &lt;= mark &lt; 70</td>\n",
    "<td>C</td>\n",
    "</tr>\n",
    "<tr class=\"row-odd\"><td>50 &lt;= mark &lt; 60</td>\n",
    "<td>D</td>\n",
    "</tr>\n",
    "<tr class=\"row-even\"><td>mark &lt; 50</td>\n",
    "<td>F</td>\n",
    "</tr>\n",
    "</tbody>\n",
    "</table>"
   ]
  },
  {
   "cell_type": "code",
   "execution_count": 29,
   "metadata": {
    "tags": []
   },
   "outputs": [
    {
     "name": "stdin",
     "output_type": "stream",
     "text": [
      "Enter Your ID: 4\n",
      "Enter your Final Grade between A to F C\n"
     ]
    },
    {
     "name": "stdout",
     "output_type": "stream",
     "text": [
      "Student with ID 4 Scored anywhere between 60 to 69\n",
      "All the best!\n"
     ]
    }
   ],
   "source": [
    "# ask the user to input ID\n",
    "input_id = int(input('Enter Your ID:'))\n",
    "\n",
    "#ask to input final grade --- from 'A,B,C,D, F ------\n",
    "input_grade = input('Enter your Final Grade between A to F')\n",
    "\n",
    "if input_grade == 'F':\n",
    "    print(\"Student with ID\", int(input_id), \"Scored less than 50\")\n",
    "    \n",
    "elif input_grade == 'D':\n",
    "    print(\"Student with ID\", int(input_id), \"Scored anywhere between 50 to 59\")\n",
    "\n",
    "elif input_grade == 'C':\n",
    "    print(\"Student with ID\", int(input_id), \"Scored anywhere between 60 to 69\")\n",
    "\n",
    "elif input_grade == 'B':\n",
    "    print(\"Student with ID\", int(input_id), \"Scored anywhere between 70 to 79\")\n",
    "\n",
    "elif input_grade == 'A':\n",
    "    print(\"Student with ID\", int(input_id), \"Scored anywhere between 80 to 100\")\n",
    "\n",
    "else:\n",
    "    print(\"Invalid Letter Grade! Try again.\")\n",
    "\n",
    "print(\"All the best!\")"
   ]
  },
  {
   "cell_type": "markdown",
   "metadata": {},
   "source": [
    "## Exercise 3: \n",
    "Write a Python program to find those numbers which are divisible by 7 and multiple of 5, between 1500 and 2700 (both included)."
   ]
  },
  {
   "cell_type": "code",
   "execution_count": 41,
   "metadata": {
    "tags": []
   },
   "outputs": [
    {
     "name": "stdin",
     "output_type": "stream",
     "text": [
      "Enter any number between 1500 to 2700 1750\n"
     ]
    },
    {
     "name": "stdout",
     "output_type": "stream",
     "text": [
      "Yes, the number is divisible by both 7 and 5\n"
     ]
    }
   ],
   "source": [
    "# variable to take user input\n",
    "input_number = int(input(\"Enter any number between 1500 to 2700\"))\n",
    "\n",
    "# condition to input number between ranges\n",
    "if 1500 <= input_number <= 2700:\n",
    "    #create an empty list\n",
    "    number_list = []\n",
    "    #use for loop to search for number with the help of range function\n",
    "    #range method will limit the input strictly\n",
    "    for num in range(1500, 2701):\n",
    "        if num % 7 == 0 & num % 5 == 0:\n",
    "            # push the number into a list\n",
    "            number_list.append(num)\n",
    "            # if number found in the list, means it's a valid input\n",
    "    if input_number in number_list:\n",
    "        print(\"Yes, the number is divisible by both 7 and 5\")\n",
    "    else:\n",
    "        print(\"The number doesn't meets the criteria\")\n",
    "else:\n",
    "    print(\"Please enter number between the specified range\")"
   ]
  },
  {
   "cell_type": "markdown",
   "metadata": {},
   "source": [
    "## Exercise 4:\n",
    "\n",
    "Write a Python program that accepts a word from the user and reverses it. "
   ]
  },
  {
   "cell_type": "code",
   "execution_count": null,
   "metadata": {
    "tags": []
   },
   "outputs": [],
   "source": [
    "# make a variable to take user input\n",
    "input_word = input(\"Input any word. I'll reverse it\")\n",
    "\n",
    "# declare a variable that holds the reversed chars\n",
    "reversed_word = input_word[::-1]\n",
    "#print reversed word\n",
    "print(reversed_word)"
   ]
  },
  {
   "cell_type": "code",
   "execution_count": null,
   "metadata": {},
   "outputs": [],
   "source": []
  }
 ],
 "metadata": {
  "kernelspec": {
   "display_name": "Python 3 (ipykernel)",
   "language": "python",
   "name": "python3"
  },
  "language_info": {
   "codemirror_mode": {
    "name": "ipython",
    "version": 3
   },
   "file_extension": ".py",
   "mimetype": "text/x-python",
   "name": "python",
   "nbconvert_exporter": "python",
   "pygments_lexer": "ipython3",
   "version": "3.11.4"
  }
 },
 "nbformat": 4,
 "nbformat_minor": 4
}
