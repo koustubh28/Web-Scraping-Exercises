{
 "cells": [
  {
   "cell_type": "markdown",
   "id": "e5800788-6c31-4dc8-94af-57669c71fc9a",
   "metadata": {},
   "source": [
    "# **Regex Practice Questions**"
   ]
  },
  {
   "cell_type": "markdown",
   "id": "43621802-88e7-4452-b3e6-38ca9d52ee0a",
   "metadata": {},
   "source": [
    "#### **1. Write a regex pattern to find all words in the text that start with a capital letter.**\n",
    "\n",
    "    \"Last summer, Alice and Bob traveled to Paris. During their trip, they visited the Louvre, saw the Eiffel Tower, and dined at Chez Marianne.\""
   ]
  },
  {
   "cell_type": "markdown",
   "id": "4ae89d6f-4c13-4cac-a379-6da864dec5d9",
   "metadata": {},
   "source": [
    "#### **2. Develop a regex pattern to find all words in the text that end with 'ing'.**\n",
    "\n",
    "    \"Walking through the park, I was thinking about the upcoming meeting while singing softly to myself.\""
   ]
  },
  {
   "cell_type": "markdown",
   "id": "1a113655-2acd-4365-96fd-080590321ed8",
   "metadata": {},
   "source": [
    "#### **3. Write a regex pattern to extract all hashtags (e.g., #Cafe123) and mentions (e.g., @manager_john).**\n",
    "\n",
    "    \"Loved the service at #Cafe123! Thanks to @manager_john for the warm hospitality. Looking forward to our next visit!\"\n",
    "\n"
   ]
  },
  {
   "cell_type": "markdown",
   "id": "9d4c9ffc-8e0f-49cc-bb3f-23b80a4a65c2",
   "metadata": {},
   "source": [
    "#### **4. Develop a regex pattern to find all the phone numbers, considering formats with parentheses, hyphens, and spaces.**\n",
    "\n",
    "    \"For reservations, call us at (123) 456-7890 or reach our branch at 098-765-4321. We're here to help!\" "
   ]
  },
  {
   "cell_type": "markdown",
   "id": "87f29b84-c5cd-4ae7-988d-044be68c4243",
   "metadata": {},
   "source": [
    "#### **5. Create a regex pattern to find all decimal and integer numbers in the text.**\n",
    "\n",
    "    \"The recipe calls for 1.5 cups of flour, 0.75 cups of sugar, and 2 eggs. Make sure to bake at 350 degrees for 20 minutes.\""
   ]
  },
  {
   "cell_type": "markdown",
   "id": "f0a817f7-1ffa-45bc-8569-fc88d406d78c",
   "metadata": {},
   "source": [
    "#### **6. Develop a regex pattern to extract all web URLs, including those starting with 'http', 'https', or 'www'.**\n",
    "\n",
    "    \"Helpful resources can be found at http://www.example.com, https://secure.site, and on our old page at www.example.net/archive.\""
   ]
  },
  {
   "cell_type": "markdown",
   "id": "27e7e468-f48b-40ae-9ca1-f46fecae25f1",
   "metadata": {},
   "source": [
    "#### **7. Create a regex pattern to find all HTML tags in the text.**\n",
    "    \n",
    "    \"<html><head><title>Sample Page</title></head><body><p>Hello World!</p></body></html>\""
   ]
  },
  {
   "cell_type": "markdown",
   "id": "48566e70-6ae2-4cb3-a3b7-cdc57d6bac8a",
   "metadata": {},
   "source": [
    "#### **8. Write a regex pattern to extract all URLs from hyperlink (\\<a>) tags in the text.**\n",
    "    \n",
    "    <div class=\"links\">\n",
    "        <a href='https://www.example.com'>Visit Example</a>\n",
    "        <a href='https://www.sample.com'>Visit Sample</a>\n",
    "        Check out our blog for more information at <a href='https://blog.example.com'>Example's Blog</a>.\n",
    "    </div>"
   ]
  },
  {
   "cell_type": "markdown",
   "id": "a1b3e400-4ed7-4acb-b953-629cad0415f7",
   "metadata": {},
   "source": [
    "#### **9. Develop a regex pattern to find all id attribute values in the HTML tags.**\n",
    "\n",
    "    <section id='main-content'>\n",
    "        <div id='header'>Welcome to Our Website</div>\n",
    "        <p id='intro'>Explore our products and services.</p>\n",
    "        <span id='footer'>2023 © Example Corporation</span>\n",
    "    </section>"
   ]
  },
  {
   "cell_type": "markdown",
   "id": "5bb60524-b84d-44d8-ae15-23a43bc46fb3",
   "metadata": {},
   "source": [
    "**10. Write a regex pattern to find all comment blocks (\\<!-- comment -->) in the HTML.**\n",
    "\n",
    "    <!DOCTYPE html>\n",
    "    <html>\n",
    "    <head>\n",
    "        <!-- Page Title -->\n",
    "        <title>My Sample Page</title>\n",
    "    </head>\n",
    "    <body>\n",
    "        <!-- Header Start -->\n",
    "        <header>\n",
    "            <h1>Welcome to My Page</h1>\n",
    "        </header>\n",
    "        <!-- Main Content Start -->\n",
    "        <main>\n",
    "            This is a sample text for my web page.\n",
    "        </main>\n",
    "        <!-- Footer Start -->\n",
    "        <footer>\n",
    "            Copyright 2023.\n",
    "        </footer>\n",
    "        <!-- End of Page -->\n",
    "    </body>\n",
    "    </html>"
   ]
  }
 ],
 "metadata": {
  "kernelspec": {
   "display_name": "Python 3 (ipykernel)",
   "language": "python",
   "name": "python3"
  },
  "language_info": {
   "codemirror_mode": {
    "name": "ipython",
    "version": 3
   },
   "file_extension": ".py",
   "mimetype": "text/x-python",
   "name": "python",
   "nbconvert_exporter": "python",
   "pygments_lexer": "ipython3",
   "version": "3.11.5"
  }
 },
 "nbformat": 4,
 "nbformat_minor": 5
}
