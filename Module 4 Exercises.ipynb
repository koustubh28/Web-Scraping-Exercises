{
 "cells": [
  {
   "cell_type": "markdown",
   "metadata": {},
   "source": [
    "**<font color=blue> Exercise 1: Write a program that prints the highlighted section of the description of each gift on [this webpage](http://www.pythonscraping.com/pages/page3.html). The output must be:**\n",
    "\n",
    "    Now with super-colorful bell peppers!`\n",
    "    8 entire dolls per set! Octuple the presents!\n",
    "    Also hand-painted by trained monkeys!\n",
    "    Or maybe he's only resting?\n",
    "    Keep your friends guessing!`"
   ]
  },
  {
   "cell_type": "code",
   "execution_count": null,
   "metadata": {},
   "outputs": [],
   "source": []
  },
  {
   "cell_type": "markdown",
   "metadata": {},
   "source": [
    "**<font color=blue> Exercise 2: Find and print all headers (i.d., h1, h2, etc.) on [this webpage](http://web.ics.purdue.edu/~gchopra/class/public/pages/webdesign/05_simple.html).** </font>"
   ]
  },
  {
   "cell_type": "code",
   "execution_count": null,
   "metadata": {},
   "outputs": [],
   "source": []
  },
  {
   "cell_type": "markdown",
   "metadata": {},
   "source": [
    "**<font color=blue> Exercise 3: Write a code that prints the names of the episodes  of \"Making a Murderer\" from [this wiki page](https://en.wikipedia.org/wiki/Making_a_Murderer).** </font>"
   ]
  },
  {
   "cell_type": "code",
   "execution_count": null,
   "metadata": {},
   "outputs": [],
   "source": []
  },
  {
   "cell_type": "markdown",
   "metadata": {},
   "source": [
    "**<font color=blue> Exercise 4: Find and print the cast of Breaking Bad from this [this webpage](https://en.wikipedia.org/wiki/Breaking_Bad). Capture the information from the Starring section in the right pane.** </font> "
   ]
  },
  {
   "cell_type": "code",
   "execution_count": null,
   "metadata": {},
   "outputs": [],
   "source": []
  },
  {
   "cell_type": "markdown",
   "metadata": {},
   "source": [
    "**<font color=blue> Exercise 5: Write a program that scrapes the title of the 50 greatest books of all time from https://thegreatestbooks.org. The output should be:** </font> \n",
    "\n",
    "    In Search of Lost Time \n",
    "    Don Quixote\n",
    "    Ulysses\n",
    "    The Great Gatsby\n",
    "    ..."
   ]
  },
  {
   "cell_type": "code",
   "execution_count": null,
   "metadata": {},
   "outputs": [],
   "source": []
  },
  {
   "cell_type": "markdown",
   "metadata": {},
   "source": [
    "**<font color=blue> Exercise 6: Revise the code below to capture all instances of \"the prince\" regardless of the case (i.e., capture \"The prince\" as well).** </font>"
   ]
  },
  {
   "cell_type": "code",
   "execution_count": null,
   "metadata": {},
   "outputs": [],
   "source": [
    "web_address='http://www.pythonscraping.com/pages/warandpeace.html'\n",
    "html = urlopen(web_address)\n",
    "bs = BeautifulSoup(html.read(), 'html.parser')\n",
    "\n",
    "nameList = bs.find_all(string='the prince')\n",
    "print(len(nameList))"
   ]
  },
  {
   "cell_type": "markdown",
   "metadata": {},
   "source": [
    "**<font color=blue> Exercise 7: Use [this Craigslist page](https://newyork.craigslist.org/search/lgi/aap?postedToday=1) and practice going up, down, and sidways. Present an example of each.** </font>"
   ]
  },
  {
   "cell_type": "code",
   "execution_count": null,
   "metadata": {},
   "outputs": [],
   "source": [
    "#Going down:\n",
    "\n"
   ]
  },
  {
   "cell_type": "code",
   "execution_count": null,
   "metadata": {},
   "outputs": [],
   "source": [
    "#Going sideways:\n",
    "\n"
   ]
  },
  {
   "cell_type": "code",
   "execution_count": null,
   "metadata": {},
   "outputs": [],
   "source": [
    "#Going up:\n",
    "\n"
   ]
  }
 ],
 "metadata": {
  "kernelspec": {
   "display_name": "Python 3 (ipykernel)",
   "language": "python",
   "name": "python3"
  },
  "language_info": {
   "codemirror_mode": {
    "name": "ipython",
    "version": 3
   },
   "file_extension": ".py",
   "mimetype": "text/x-python",
   "name": "python",
   "nbconvert_exporter": "python",
   "pygments_lexer": "ipython3",
   "version": "3.11.5"
  }
 },
 "nbformat": 4,
 "nbformat_minor": 4
}
