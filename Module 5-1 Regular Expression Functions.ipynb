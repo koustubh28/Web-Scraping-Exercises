{
 "cells": [
  {
   "cell_type": "markdown",
   "metadata": {},
   "source": [
    "# Python RE Functions"
   ]
  },
  {
   "cell_type": "markdown",
   "metadata": {},
   "source": [
    "## `re.match(pattern, string):`\n",
    "This method finds match if it occurs at the start of the string. \n",
    "\n",
    "For example, calling `match()` on the string ‘you can count on me i can count on you’ and looking for a pattern 'you' will match. However, if we look for say 'can', the pattern will not match. See the example below:"
   ]
  },
  {
   "cell_type": "code",
   "execution_count": null,
   "metadata": {
    "tags": []
   },
   "outputs": [],
   "source": [
    "import re\n",
    "\n",
    "result = re.match('can', 'you can count on me i can count on you')\n",
    "print (result)"
   ]
  },
  {
   "cell_type": "markdown",
   "metadata": {},
   "source": [
    "Here we see that string is not starting with ‘can’ so it returned no match. \n",
    "\n",
    "Let’s now find ‘you’ in the given string."
   ]
  },
  {
   "cell_type": "code",
   "execution_count": null,
   "metadata": {
    "tags": []
   },
   "outputs": [],
   "source": [
    "result = re.match('you', 'you can count on me i can count on you')\n",
    "print (result)"
   ]
  },
  {
   "cell_type": "markdown",
   "metadata": {},
   "source": [
    "Since the string starts with a match, the code returns a `match` object. You can query this object for information about the matching string. Match object instances have several methods and attributes; the most important ones are:"
   ]
  },
  {
   "cell_type": "markdown",
   "metadata": {},
   "source": [
    "<table>\n",
    "<colgroup>\n",
    "<col width=\"29%\" />\n",
    "<col width=\"71%\" />\n",
    "</colgroup>\n",
    "<thead>\n",
    "<tr><th>Method/Attribute</th>\n",
    "<th>Purpose</th>\n",
    "</tr>\n",
    "</thead>\n",
    "<tbody>\n",
    "<tr><td><code><span>group()</span></code></td>\n",
    "<td>Return the string matched by the RE</td>\n",
    "</tr>\n",
    "<tr><td><code><span>start()</span></code></td>\n",
    "<td>Return the starting position of the match</td>\n",
    "</tr>\n",
    "<tr><td><code><span>end()</span></code></td>\n",
    "<td>Return the ending position of the match</td>\n",
    "</tr>\n",
    "<thead>\n",
    "<tr><td><code><span>span()</span></code></td>\n",
    "<td>Return a tuple containing the (start, end)\n",
    "positions  of the match</td>\n",
    "</tr>\n",
    "</thead>\n",
    "</tbody>\n",
    "</table>"
   ]
  },
  {
   "cell_type": "code",
   "execution_count": null,
   "metadata": {
    "tags": []
   },
   "outputs": [],
   "source": [
    "print (result.group())\n",
    "print (result.span())\n",
    "print (result.start())\n",
    "print (result.end())"
   ]
  },
  {
   "cell_type": "markdown",
   "metadata": {},
   "source": [
    "## `re.search(pattern, string):`\n",
    "\n",
    "`search()` is similar to `match()` but it doesn’t restrict us to find matches at the beginning of the string only. Thus, unlike before, here searching for pattern ‘can’ will return a match."
   ]
  },
  {
   "cell_type": "code",
   "execution_count": null,
   "metadata": {
    "tags": []
   },
   "outputs": [],
   "source": [
    "result = re.search('can', 'you can count on me i can count on you')\n",
    "print (result)"
   ]
  },
  {
   "cell_type": "markdown",
   "metadata": {},
   "source": [
    "Here you can see that, `search()` is able to find a pattern from any position of the string but *it only returns the first occurrence* of the search pattern."
   ]
  },
  {
   "cell_type": "markdown",
   "metadata": {},
   "source": [
    "## `re.findall (pattern, string):`\n",
    "\n",
    "`findall()` is probably the single most powerful function in the `re` module. Above we used `re.search()` to find the first match for a pattern. `findall()` finds **all** the matches and returns them as a list of strings, with each string representing one match."
   ]
  },
  {
   "cell_type": "code",
   "execution_count": null,
   "metadata": {
    "tags": []
   },
   "outputs": [],
   "source": [
    "result = re.findall('can', 'you can count on me i can count on you')\n",
    "print (result)"
   ]
  },
  {
   "cell_type": "markdown",
   "metadata": {},
   "source": [
    "## `re.split(pattern, string, [maxsplit=0]):`\n",
    "`split()` helps to split a string by the occurrences of given pattern:"
   ]
  },
  {
   "cell_type": "code",
   "execution_count": null,
   "metadata": {
    "tags": []
   },
   "outputs": [],
   "source": [
    "result=re.split('can', 'you can count on me i can count on you')\n",
    "print(result)"
   ]
  },
  {
   "cell_type": "markdown",
   "metadata": {},
   "source": [
    "`split()` has another argument `maxsplit`. Its default value is zero, which means the maximum splits possible. Let's see how a non-zero `maxsplit` affects the result:"
   ]
  },
  {
   "cell_type": "code",
   "execution_count": null,
   "metadata": {
    "tags": []
   },
   "outputs": [],
   "source": [
    "result=re.split('can', 'you can count on me i can count on you',maxsplit=1)\n",
    "print(result)"
   ]
  },
  {
   "cell_type": "markdown",
   "metadata": {},
   "source": [
    "## `re.sub(pattern, repl, string):`\n",
    "The `sub()` functions helps to search a pattern and replace it with a new sub-string. If the pattern is not found, string is returned unchanged."
   ]
  },
  {
   "cell_type": "code",
   "execution_count": null,
   "metadata": {
    "tags": []
   },
   "outputs": [],
   "source": [
    "result=re.sub('me','you','you can count on me i can count on you')\n",
    "print(result)"
   ]
  },
  {
   "cell_type": "markdown",
   "metadata": {},
   "source": [
    "So far, we have used  *constant patterns* (i.e., fixed characters). What if we do not have a constant search pattern and we want to return specific set of characters (defined by a rule) from a string?\n",
    "\n",
    "This can be easily performed by defining a regex expression with the help of **pattern operators** (meta  and literal characters). In the next notebook, you learn the most common pattern operators.\n",
    "\n"
   ]
  }
 ],
 "metadata": {
  "kernelspec": {
   "display_name": "Python 3 (ipykernel)",
   "language": "python",
   "name": "python3"
  },
  "language_info": {
   "codemirror_mode": {
    "name": "ipython",
    "version": 3
   },
   "file_extension": ".py",
   "mimetype": "text/x-python",
   "name": "python",
   "nbconvert_exporter": "python",
   "pygments_lexer": "ipython3",
   "version": "3.11.5"
  }
 },
 "nbformat": 4,
 "nbformat_minor": 4
}
