{
 "cells": [
  {
   "cell_type": "markdown",
   "metadata": {},
   "source": [
    "# Regex Pattern Operators"
   ]
  },
  {
   "cell_type": "markdown",
   "metadata": {},
   "source": [
    "#### **<font color=blue> Exercise 1. Extract each character of the string given below.**\n"
   ]
  },
  {
   "cell_type": "code",
   "execution_count": 11,
   "metadata": {},
   "outputs": [
    {
     "name": "stdout",
     "output_type": "stream",
     "text": [
      "The news sent crude soaring as high as $61.28 a barrel. Most of the selloff occurred before President Donald Trump voiced opposition to Saudi Arabia's efforts to balance the market\n"
     ]
    }
   ],
   "source": [
    "text1=\"The news sent crude soaring as high as $61.28 a barrel. Most of the selloff occurred before President Donald Trump voiced opposition to Saudi Arabia's efforts to balance the market\"\n",
    "print(text1)"
   ]
  },
  {
   "cell_type": "code",
   "execution_count": 12,
   "metadata": {},
   "outputs": [
    {
     "name": "stdout",
     "output_type": "stream",
     "text": [
      "['T', 'h', 'e', ' ', 'n', 'e', 'w', 's', ' ', 's', 'e', 'n', 't', ' ', 'c', 'r', 'u', 'd', 'e', ' ', 's', 'o', 'a', 'r', 'i', 'n', 'g', ' ', 'a', 's', ' ', 'h', 'i', 'g', 'h', ' ', 'a', 's', ' ', '$', '6', '1', '.', '2', '8', ' ', 'a', ' ', 'b', 'a', 'r', 'r', 'e', 'l', '.', ' ', 'M', 'o', 's', 't', ' ', 'o', 'f', ' ', 't', 'h', 'e', ' ', 's', 'e', 'l', 'l', 'o', 'f', 'f', ' ', 'o', 'c', 'c', 'u', 'r', 'r', 'e', 'd', ' ', 'b', 'e', 'f', 'o', 'r', 'e', ' ', 'P', 'r', 'e', 's', 'i', 'd', 'e', 'n', 't', ' ', 'D', 'o', 'n', 'a', 'l', 'd', ' ', 'T', 'r', 'u', 'm', 'p', ' ', 'v', 'o', 'i', 'c', 'e', 'd', ' ', 'o', 'p', 'p', 'o', 's', 'i', 't', 'i', 'o', 'n', ' ', 't', 'o', ' ', 'S', 'a', 'u', 'd', 'i', ' ', 'A', 'r', 'a', 'b', 'i', 'a', \"'\", 's', ' ', 'e', 'f', 'f', 'o', 'r', 't', 's', ' ', 't', 'o', ' ', 'b', 'a', 'l', 'a', 'n', 'c', 'e', ' ', 't', 'h', 'e', ' ', 'm', 'a', 'r', 'k', 'e', 't']\n"
     ]
    }
   ],
   "source": [
    "import re\n",
    "\n",
    "result1=re.findall(r'.',text1)\n",
    "print(result1)"
   ]
  },
  {
   "cell_type": "markdown",
   "metadata": {},
   "source": [
    "As you can see, space and other symbols are also extracted. To get only the letters, we can use `\"\\w\"\n",
    "` instead of `\".\"`."
   ]
  },
  {
   "cell_type": "code",
   "execution_count": 13,
   "metadata": {},
   "outputs": [
    {
     "name": "stdout",
     "output_type": "stream",
     "text": [
      "['T', 'h', 'e', 'n', 'e', 'w', 's', 's', 'e', 'n', 't', 'c', 'r', 'u', 'd', 'e', 's', 'o', 'a', 'r', 'i', 'n', 'g', 'a', 's', 'h', 'i', 'g', 'h', 'a', 's', '6', '1', '2', '8', 'a', 'b', 'a', 'r', 'r', 'e', 'l', 'M', 'o', 's', 't', 'o', 'f', 't', 'h', 'e', 's', 'e', 'l', 'l', 'o', 'f', 'f', 'o', 'c', 'c', 'u', 'r', 'r', 'e', 'd', 'b', 'e', 'f', 'o', 'r', 'e', 'P', 'r', 'e', 's', 'i', 'd', 'e', 'n', 't', 'D', 'o', 'n', 'a', 'l', 'd', 'T', 'r', 'u', 'm', 'p', 'v', 'o', 'i', 'c', 'e', 'd', 'o', 'p', 'p', 'o', 's', 'i', 't', 'i', 'o', 'n', 't', 'o', 'S', 'a', 'u', 'd', 'i', 'A', 'r', 'a', 'b', 'i', 'a', 's', 'e', 'f', 'f', 'o', 'r', 't', 's', 't', 'o', 'b', 'a', 'l', 'a', 'n', 'c', 'e', 't', 'h', 'e', 'm', 'a', 'r', 'k', 'e', 't']\n"
     ]
    }
   ],
   "source": [
    "result1=re.findall(r'\\w',text1)\n",
    "print(result1)"
   ]
  },
  {
   "cell_type": "markdown",
   "metadata": {},
   "source": [
    "#### **<font color=blue> Exercise 2. Extract each word in the above string.**"
   ]
  },
  {
   "cell_type": "code",
   "execution_count": null,
   "metadata": {},
   "outputs": [],
   "source": [
    "\n",
    "\n"
   ]
  },
  {
   "cell_type": "markdown",
   "metadata": {},
   "source": [
    "Again, it is matching the space and all the symbols because `\"*\"` returns zero or more alphanumerics to its left. Now to remove spaces we will go with `\"+\"`."
   ]
  },
  {
   "cell_type": "code",
   "execution_count": null,
   "metadata": {},
   "outputs": [],
   "source": [
    "\n",
    "\n"
   ]
  },
  {
   "cell_type": "markdown",
   "metadata": {},
   "source": [
    "#### **<font color=blue> Exercise 3. Extract the first and the last word of the string.**\n"
   ]
  },
  {
   "cell_type": "code",
   "execution_count": null,
   "metadata": {},
   "outputs": [],
   "source": [
    "\n",
    "\n"
   ]
  },
  {
   "cell_type": "code",
   "execution_count": null,
   "metadata": {},
   "outputs": [],
   "source": [
    "\n",
    "\n"
   ]
  },
  {
   "cell_type": "markdown",
   "metadata": {},
   "source": [
    "#### **<font color=blue> Exercise 4. Extract consecutive two characters of each word, excluding spaces.**"
   ]
  },
  {
   "cell_type": "code",
   "execution_count": null,
   "metadata": {},
   "outputs": [],
   "source": [
    "\n",
    "\n"
   ]
  },
  {
   "cell_type": "markdown",
   "metadata": {},
   "source": [
    "#### **<font color=blue> Exercise 5. Extract consecutive two characters those available at start of word boundary (use “\\b“,  which mathes the boundary between word and non-word).**"
   ]
  },
  {
   "cell_type": "code",
   "execution_count": null,
   "metadata": {},
   "outputs": [],
   "source": [
    "\n",
    "\n"
   ]
  },
  {
   "cell_type": "markdown",
   "metadata": {},
   "source": [
    "**<font color='red'>Note 1:</font>** You may have noticed `\"r\"`  at the start of the pattern string. This is to interpret regex symbols literally (as a python raw string). Sometimes characters in regex patterns collide with Python’s usage of the same characters. Thus, usually the raw string notation is used to avoid such scenarios.\n",
    "\n",
    "Note that this is not specific to regex. For example, r\"\\n\" is a two-character string containing '\\\\' and 'n', while \"\\n\" is a one-character string containing a newline. You can also prefix a string with a '\\\\' (e.g., \"\\\\n\") for literal interpretation.\n",
    "\n",
    "Here is an example:"
   ]
  },
  {
   "cell_type": "code",
   "execution_count": 14,
   "metadata": {},
   "outputs": [
    {
     "name": "stdout",
     "output_type": "stream",
     "text": [
      "1. Hi \\n Bye\n",
      "2. Hi \\n Bye\n",
      "3. Hi \n",
      " Bye\n"
     ]
    }
   ],
   "source": [
    "print(r\"1. Hi \\n Bye\")\n",
    "print(\"2. Hi \\\\n Bye\")\n",
    "print(\"3. Hi \\n Bye\")"
   ]
  },
  {
   "cell_type": "markdown",
   "metadata": {},
   "source": [
    "**<font color='red'>Note 2:</font>** If you want a special regular expression character to behave normally (or literally), you should prefix it with a '\\\\'. Here is an example:"
   ]
  },
  {
   "cell_type": "markdown",
   "metadata": {},
   "source": [
    "#### **<font color=blue> Exercise 6. Extract all dollar values in the following string:**"
   ]
  },
  {
   "cell_type": "code",
   "execution_count": 15,
   "metadata": {
    "scrolled": true
   },
   "outputs": [
    {
     "name": "stdout",
     "output_type": "stream",
     "text": [
      "You probably don't have $31,252 lying around, which was the average transaction price for a new car during the summer of 2013, according to the car-buying website truecar.com. So if you're taking out a loan for $31,000 already, keep in mind that you're likely going to spend a couple or many thousands of dollars more in interest charges.\n"
     ]
    }
   ],
   "source": [
    "text2=\"You probably don't have $31,252 lying around, which was the average transaction price for a new car during the summer of 2013, according to the car-buying website truecar.com. So if you're taking out a loan for $31,000 already, keep in mind that you're likely going to spend a couple or many thousands of dollars more in interest charges.\"\n",
    "print(text2)"
   ]
  },
  {
   "cell_type": "code",
   "execution_count": null,
   "metadata": {
    "scrolled": true
   },
   "outputs": [],
   "source": [
    "\n",
    "\n"
   ]
  },
  {
   "cell_type": "markdown",
   "metadata": {},
   "source": [
    "#### **<font color=blue> Exercise 7. Extract the domain of the following email addressess.**"
   ]
  },
  {
   "cell_type": "code",
   "execution_count": 16,
   "metadata": {},
   "outputs": [
    {
     "name": "stdout",
     "output_type": "stream",
     "text": [
      "some random emails for testing are abc.test@gmail.com, xyz@hofstra.edu, bigdata@analytics.com, first.test@rest.biz\n"
     ]
    }
   ],
   "source": [
    "text3=\"some random emails for testing are abc.test@gmail.com, xyz@hofstra.edu, bigdata@analytics.com, first.test@rest.biz\"\n",
    "print(text3)"
   ]
  },
  {
   "cell_type": "code",
   "execution_count": null,
   "metadata": {},
   "outputs": [],
   "source": [
    "\n",
    "\n"
   ]
  },
  {
   "cell_type": "markdown",
   "metadata": {},
   "source": [
    "#### **<font color=blue> Exercise 8. Extract only domain name using “( )”.**"
   ]
  },
  {
   "cell_type": "code",
   "execution_count": null,
   "metadata": {},
   "outputs": [],
   "source": [
    "\n",
    "\n"
   ]
  },
  {
   "cell_type": "markdown",
   "metadata": {},
   "source": [
    "#### **<font color=blue> Exercise 9. Return date from the following string:**"
   ]
  },
  {
   "cell_type": "code",
   "execution_count": 17,
   "metadata": {},
   "outputs": [
    {
     "name": "stdout",
     "output_type": "stream",
     "text": [
      "Amir 34-3456 12-05-2017, XYZ 56-4532 11-11-2019, ABC 67-8945 12-01-2019, kierce@mit.edu Mon 11-19-2018 3:56 PM, Mary J. DelzottoMon 11-19-2018 1:09 PM\n"
     ]
    }
   ],
   "source": [
    "text4=\"Amir 34-3456 12-05-2017, XYZ 56-4532 11-11-2019, ABC 67-8945 12-01-2019, kierce@mit.edu Mon 11-19-2018 3:56 PM, Mary J. DelzottoMon 11-19-2018 1:09 PM\"\n",
    "print(text4)"
   ]
  },
  {
   "cell_type": "code",
   "execution_count": null,
   "metadata": {},
   "outputs": [],
   "source": [
    "\n",
    "\n"
   ]
  },
  {
   "cell_type": "markdown",
   "metadata": {},
   "source": [
    "#### **<font color=blue> Exercise 10. Return date from the following string (note that now some dates include / instead of -):**"
   ]
  },
  {
   "cell_type": "code",
   "execution_count": 18,
   "metadata": {},
   "outputs": [
    {
     "name": "stdout",
     "output_type": "stream",
     "text": [
      "Amir 34-3456 12-05-2017, XYZ 56-4532 11-11-2019, ABC 67-8945 12-01-2019, kierce@mit.edu Mon 11/19/2018, 3:56 PM, Mary J. DelzottoMon 11/19/2018, 1:09 PM\n"
     ]
    }
   ],
   "source": [
    "text5=\"Amir 34-3456 12-05-2017, XYZ 56-4532 11-11-2019, ABC 67-8945 12-01-2019, kierce@mit.edu Mon 11/19/2018, 3:56 PM, Mary J. DelzottoMon 11/19/2018, 1:09 PM\"\n",
    "print(text5)"
   ]
  },
  {
   "cell_type": "code",
   "execution_count": null,
   "metadata": {},
   "outputs": [],
   "source": [
    "\n",
    "\n"
   ]
  },
  {
   "cell_type": "markdown",
   "metadata": {},
   "source": [
    "#### **<font color=blue> Exercise 11. In the previous question, extract only the year.**"
   ]
  },
  {
   "cell_type": "code",
   "execution_count": null,
   "metadata": {},
   "outputs": [],
   "source": [
    "\n",
    "\n"
   ]
  },
  {
   "cell_type": "markdown",
   "metadata": {},
   "source": [
    "#### **<font color=blue> Exercise 12. Return all words of a string those starts with vowel.**\n"
   ]
  },
  {
   "cell_type": "code",
   "execution_count": 19,
   "metadata": {},
   "outputs": [
    {
     "name": "stdout",
     "output_type": "stream",
     "text": [
      "Narcos is an American crime drama web television series created and produced by Chris Brancato, Carlo Bernard, and Doug Miro.Set and filmed in Colombia, seasons one and two are based on the story of drug kingpin Pablo Escobar, who became a billionaire through the production and distribution of cocaine.\n"
     ]
    }
   ],
   "source": [
    "text6=\"Narcos is an American crime drama web television series created and produced by Chris Brancato, Carlo Bernard, and Doug Miro.Set and filmed in Colombia, seasons one and two are based on the story of drug kingpin Pablo Escobar, who became a billionaire through the production and distribution of cocaine.\"\n",
    "print(text6)"
   ]
  },
  {
   "cell_type": "code",
   "execution_count": null,
   "metadata": {},
   "outputs": [],
   "source": [
    "\n",
    "\n"
   ]
  },
  {
   "cell_type": "markdown",
   "metadata": {},
   "source": [
    "#### **<font color=blue> Exercise 13. Split the following string with multiple delimiters (either semicolon, space, or comma).**"
   ]
  },
  {
   "cell_type": "code",
   "execution_count": 20,
   "metadata": {},
   "outputs": [],
   "source": [
    "text7=\"Roberts  Bardem;Franco,Jenkins,Davis,Crudup\""
   ]
  },
  {
   "cell_type": "code",
   "execution_count": null,
   "metadata": {},
   "outputs": [],
   "source": [
    "\n",
    "\n"
   ]
  }
 ],
 "metadata": {
  "kernelspec": {
   "display_name": "Python 3 (ipykernel)",
   "language": "python",
   "name": "python3"
  },
  "language_info": {
   "codemirror_mode": {
    "name": "ipython",
    "version": 3
   },
   "file_extension": ".py",
   "mimetype": "text/x-python",
   "name": "python",
   "nbconvert_exporter": "python",
   "pygments_lexer": "ipython3",
   "version": "3.11.5"
  }
 },
 "nbformat": 4,
 "nbformat_minor": 4
}
