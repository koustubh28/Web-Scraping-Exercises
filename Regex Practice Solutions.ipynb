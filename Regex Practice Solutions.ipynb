{
 "cells": [
  {
   "cell_type": "markdown",
   "id": "492714a4-4fd8-41a5-9257-6619ca33949d",
   "metadata": {
    "tags": []
   },
   "source": [
    "# **Solution for Regex Practice Questions**"
   ]
  },
  {
   "cell_type": "code",
   "execution_count": null,
   "id": "1d9783d7-293a-46e2-8006-5840f26379f0",
   "metadata": {},
   "outputs": [],
   "source": [
    "import re"
   ]
  },
  {
   "cell_type": "markdown",
   "id": "43621802-88e7-4452-b3e6-38ca9d52ee0a",
   "metadata": {
    "jp-MarkdownHeadingCollapsed": true,
    "tags": []
   },
   "source": [
    "#### **1. Write a regex pattern to find all words in the text that start with a capital letter.**\n",
    "\n",
    "    \"Last summer, Alice and Bob traveled to Paris. During their trip, they visited the Louvre, saw the Eiffel Tower, and dined at Chez Marianne.\""
   ]
  },
  {
   "cell_type": "code",
   "execution_count": 2,
   "id": "c005da40-372b-495d-9038-ad7f1aa1271e",
   "metadata": {
    "tags": []
   },
   "outputs": [
    {
     "name": "stdout",
     "output_type": "stream",
     "text": [
      "['Last', 'Alice', 'Bob', 'Paris', 'During', 'Louvre', 'Eiffel', 'Tower', 'Chez', 'Marianne']\n"
     ]
    }
   ],
   "source": [
    "import re\n",
    "\n",
    "text = \"Last summer, Alice and Bob traveled to Paris. During their trip, they visited the Louvre, saw the Eiffel Tower, and dined at Chez Marianne.\"\n",
    "matches = re.findall(r\"\\b[A-Z][a-zA-Z]*\\b\", text)\n",
    "print(matches)"
   ]
  },
  {
   "cell_type": "markdown",
   "id": "4ae89d6f-4c13-4cac-a379-6da864dec5d9",
   "metadata": {},
   "source": [
    "#### **2. Develop a regex pattern to find all words in the text that end with 'ing'.**\n",
    "\n",
    "    \"Walking through the park, I was thinking about the upcoming meeting while singing softly to myself.\""
   ]
  },
  {
   "cell_type": "code",
   "execution_count": 3,
   "id": "d1db17f3-1677-4363-ae87-d76e006f9218",
   "metadata": {
    "tags": []
   },
   "outputs": [
    {
     "name": "stdout",
     "output_type": "stream",
     "text": [
      "['Last', 'Alice', 'Bob', 'Paris', 'During', 'Louvre', 'Eiffel', 'Tower', 'Chez', 'Marianne']\n"
     ]
    }
   ],
   "source": [
    "text = \"Last summer, Alice and Bob traveled to Paris. During their trip, they visited the Louvre, saw the Eiffel Tower, and dined at Chez Marianne.\"\n",
    "matches = re.findall(r\"\\b[A-Z][a-zA-Z]*\\b\", text)\n",
    "print(matches)"
   ]
  },
  {
   "cell_type": "markdown",
   "id": "1a113655-2acd-4365-96fd-080590321ed8",
   "metadata": {},
   "source": [
    "#### **3. Write a regex pattern to extract all hashtags (e.g., #Cafe123) and mentions (e.g., @manager_john).**\n",
    "\n",
    "    \"Loved the service at #Cafe123! Thanks to @manager_john for the warm hospitality. Looking forward to our next visit!\"\n",
    "\n"
   ]
  },
  {
   "cell_type": "code",
   "execution_count": 4,
   "id": "0a9068e7-c25c-4e5c-a481-29f6226344ba",
   "metadata": {
    "tags": []
   },
   "outputs": [
    {
     "name": "stdout",
     "output_type": "stream",
     "text": [
      "['#Cafe123', '@manager_john']\n"
     ]
    }
   ],
   "source": [
    "text = \"Loved the service at #Cafe123! Thanks to @manager_john for the warm hospitality. Looking forward to our next visit!\"\n",
    "matches = re.findall(r\"[@#][\\w]+\", text)\n",
    "print(matches)"
   ]
  },
  {
   "cell_type": "markdown",
   "id": "9d4c9ffc-8e0f-49cc-bb3f-23b80a4a65c2",
   "metadata": {},
   "source": [
    "#### **4. Develop a regex pattern to find all the phone numbers, considering formats with parentheses, hyphens, and spaces.**\n",
    "\n",
    "    \"For reservations, call us at (123) 456-7890 or reach our branch at 098-765-4321. We're here to help!\" "
   ]
  },
  {
   "cell_type": "code",
   "execution_count": 5,
   "id": "875ca99f-9c65-4cea-8a7e-46e4107ee41b",
   "metadata": {
    "tags": []
   },
   "outputs": [
    {
     "name": "stdout",
     "output_type": "stream",
     "text": [
      "['(123) 456-7890', '098-765-4321']\n"
     ]
    }
   ],
   "source": [
    "text = \"For reservations, call us at (123) 456-7890 or reach our branch at 098-765-4321. We're here to help!\"\n",
    "matches = re.findall(r\"\\(?\\d{3}\\)?[-\\s]?\\d{3}[-\\s]?\\d{4}\", text)\n",
    "print(matches)\n",
    "\n"
   ]
  },
  {
   "cell_type": "markdown",
   "id": "3d1feb4d-6f28-455f-a8d3-5674b80a92b1",
   "metadata": {},
   "source": [
    "**Note:** The question mark (?) in a regular expression is a quantifier that makes the preceding element optional. It indicates that the preceding token (which could be a single character or a group) can appear zero or one time in the target string. "
   ]
  },
  {
   "cell_type": "markdown",
   "id": "87f29b84-c5cd-4ae7-988d-044be68c4243",
   "metadata": {},
   "source": [
    "#### **5. Create a regex pattern to find all decimal and integer numbers in the text.**\n",
    "\n",
    "    \"The recipe calls for 1.5 cups of flour, 0.75 cups of sugar, and 2 eggs. Make sure to bake at 350 degrees for 20 minutes.\""
   ]
  },
  {
   "cell_type": "code",
   "execution_count": 9,
   "id": "20dae03e-db10-46f2-b5cc-8835db0d2831",
   "metadata": {
    "tags": []
   },
   "outputs": [
    {
     "name": "stdout",
     "output_type": "stream",
     "text": [
      "['1.5', '0.75', '2', '350', '20']\n"
     ]
    }
   ],
   "source": [
    "text = \"The recipe calls for 1.5 cups of flour, 0.75 cups of sugar, and 2 eggs. Make sure to bake at 350 degrees for 20 minutes.\"\n",
    "matches = re.findall(r\"(\\d+\\.\\d+|\\d+)\", text)\n",
    "print(matches)"
   ]
  },
  {
   "cell_type": "markdown",
   "id": "f0a817f7-1ffa-45bc-8569-fc88d406d78c",
   "metadata": {},
   "source": [
    "#### **6. Develop a regex pattern to extract all web URLs, including those starting with 'http', 'https', or 'www'.**\n",
    "\n",
    "    \"Helpful resources can be found at http://www.example.com, https://secure.site, and on our old page at www.example.net/archive.\""
   ]
  },
  {
   "cell_type": "code",
   "execution_count": 11,
   "id": "a0f71b2c-8a63-4af4-8705-0dd68fdc6c68",
   "metadata": {
    "tags": []
   },
   "outputs": [
    {
     "name": "stdout",
     "output_type": "stream",
     "text": [
      "['http://www.example.com,', 'https://secure.site,', 'www.example.net/archive.']\n"
     ]
    }
   ],
   "source": [
    "text = \"Helpful resources can be found at http://www.example.com, https://secure.site, and on our old page at www.example.net/archive.\"\n",
    "matches = re.findall(r\"https?://\\S+|www\\.\\S+\", text)\n",
    "print(matches)"
   ]
  },
  {
   "cell_type": "markdown",
   "id": "27e7e468-f48b-40ae-9ca1-f46fecae25f1",
   "metadata": {},
   "source": [
    "#### **7. Create a regex pattern to find all HTML tags in the text.**\n",
    "    \n",
    "    \"<html><head><title>Sample Page</title></head><body><p>Hello World!</p></body></html>\""
   ]
  },
  {
   "cell_type": "code",
   "execution_count": 17,
   "id": "71f24a37-6e0f-446c-b845-825a3d727abb",
   "metadata": {
    "tags": []
   },
   "outputs": [
    {
     "name": "stdout",
     "output_type": "stream",
     "text": [
      "['<html>', '<head>', '<title>', '</title>', '</head>', '<body>', '<p>', '</p>', '</body>', '</html>']\n"
     ]
    }
   ],
   "source": [
    "text = \"<html><head><title>Sample Page</title></head><body><p>Hello World!</p></body></html>\"\n",
    "matches = re.findall(r\"<[^>]+>\", text)\n",
    "print(matches)"
   ]
  },
  {
   "cell_type": "markdown",
   "id": "48566e70-6ae2-4cb3-a3b7-cdc57d6bac8a",
   "metadata": {},
   "source": [
    "#### **8. Write a regex pattern to extract all URLs from hyperlink (\\<a>) tags in the text.**\n",
    "    \n",
    "    <div class=\"links\">\n",
    "        <a href='https://www.example.com'>Visit Example</a>\n",
    "        <a href='https://www.sample.com'>Visit Sample</a>\n",
    "        Check out our blog for more information at <a href='https://blog.example.com'>Example's Blog</a>.\n",
    "    </div>"
   ]
  },
  {
   "cell_type": "code",
   "execution_count": 27,
   "id": "b4e1ca8c-2396-48a3-8170-9dd09264ba41",
   "metadata": {
    "tags": []
   },
   "outputs": [
    {
     "name": "stdout",
     "output_type": "stream",
     "text": [
      "['https://www.example.com', 'https://www.sample.com', 'https://blog.example.com']\n"
     ]
    }
   ],
   "source": [
    "text = \"<div class='links'><a href='https://www.example.com'>Visit Example</a><a href='https://www.sample.com'>Visit Sample</a>Check out our blog for more information at <a href='https://blog.example.com'>Example's Blog</a>.</div>\"\n",
    "pattern = r\"<a href='([https://www.\\w./]+)'>\"\n",
    "matches = re.findall(pattern, text)\n",
    "print(matches)"
   ]
  },
  {
   "cell_type": "markdown",
   "id": "a1b3e400-4ed7-4acb-b953-629cad0415f7",
   "metadata": {},
   "source": [
    "#### **9. Develop a regex pattern to find all id attribute values in the HTML tags.**\n",
    "\n",
    "    <section id='main-content'>\n",
    "        <div id='header'>Welcome to Our Website</div>\n",
    "        <p id='intro'>Explore our products and services.</p>\n",
    "        <span id='footer'>2023 © Example Corporation</span>\n",
    "    </section>"
   ]
  },
  {
   "cell_type": "code",
   "execution_count": 31,
   "id": "ad8631e1-0f98-42be-942a-43255a818684",
   "metadata": {
    "tags": []
   },
   "outputs": [
    {
     "name": "stdout",
     "output_type": "stream",
     "text": [
      "['main-content', 'header', 'intro', 'footer']\n"
     ]
    }
   ],
   "source": [
    "text = \"<section id='main-content'><div id='header'>Welcome to Our Website</div><p id='intro'>Explore our products and services.</p><span id='footer'>2023 © Example Corporation</span></section>\"\n",
    "matches = re.findall(r\"id='([\\w-]+)'\", text)\n",
    "print(matches)"
   ]
  },
  {
   "cell_type": "markdown",
   "id": "5bb60524-b84d-44d8-ae15-23a43bc46fb3",
   "metadata": {},
   "source": [
    "**10. Write a regex pattern to find all comment blocks (\\<!-- comment -->) in the HTML.**\n",
    "\n",
    "    <!DOCTYPE html>\n",
    "    <html>\n",
    "    <head>\n",
    "        <!-- Page Title -->\n",
    "        <title>My Sample Page</title>\n",
    "    </head>\n",
    "    <body>\n",
    "        <!-- Header Start -->\n",
    "        <header>\n",
    "            <h1>Welcome to My Page</h1>\n",
    "        </header>\n",
    "        <!-- Main Content Start -->\n",
    "        <main>\n",
    "            This is a sample text for my web page.\n",
    "        </main>\n",
    "        <!-- Footer Start -->\n",
    "        <footer>\n",
    "            Copyright 2023.\n",
    "        </footer>\n",
    "        <!-- End of Page -->\n",
    "    </body>\n",
    "    </html>"
   ]
  },
  {
   "cell_type": "code",
   "execution_count": 35,
   "id": "42d98738-7928-4d6d-9b48-ef6ae062edaf",
   "metadata": {
    "tags": []
   },
   "outputs": [
    {
     "name": "stdout",
     "output_type": "stream",
     "text": [
      "['<!-- Page Title -->', '<!-- Header Start -->', '<!-- Main Content Start -->', '<!-- Footer Start -->', '<!-- End of Page -->']\n"
     ]
    }
   ],
   "source": [
    "text = \"\"\"\n",
    "<!DOCTYPE html>\n",
    "<html>\n",
    "<head>\n",
    "    <!-- Page Title -->\n",
    "    <title>My Sample Page</title>\n",
    "</head>\n",
    "<body>\n",
    "    <!-- Header Start -->\n",
    "    <header>\n",
    "        <h1>Welcome to My Page</h1>\n",
    "    </header>\n",
    "    <!-- Main Content Start -->\n",
    "    <main>\n",
    "        This is a sample text for my web page.\n",
    "    </main>\n",
    "    <!-- Footer Start -->\n",
    "    <footer>\n",
    "        Copyright 2023.\n",
    "    </footer>\n",
    "    <!-- End of Page -->\n",
    "</body>\n",
    "</html>\n",
    "\"\"\"\n",
    "matches = re.findall(r\"<!--[\\s\\S]*?-->\", text, re.DOTALL)\n",
    "print(matches)"
   ]
  },
  {
   "cell_type": "code",
   "execution_count": null,
   "id": "ab8bba73-3be3-4d2c-a640-21433aa3bfde",
   "metadata": {},
   "outputs": [],
   "source": []
  }
 ],
 "metadata": {
  "kernelspec": {
   "display_name": "Python 3 (ipykernel)",
   "language": "python",
   "name": "python3"
  },
  "language_info": {
   "codemirror_mode": {
    "name": "ipython",
    "version": 3
   },
   "file_extension": ".py",
   "mimetype": "text/x-python",
   "name": "python",
   "nbconvert_exporter": "python",
   "pygments_lexer": "ipython3",
   "version": "3.11.5"
  }
 },
 "nbformat": 4,
 "nbformat_minor": 5
}
